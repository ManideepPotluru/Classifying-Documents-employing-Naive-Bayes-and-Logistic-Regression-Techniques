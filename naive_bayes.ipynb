{
 "cells": [
  {
   "cell_type": "code",
   "execution_count": 10,
   "metadata": {},
   "outputs": [],
   "source": [
    "import pandas as pd\n",
    "import numpy as np\n",
    "\n",
    "from sklearn.model_selection import train_test_split\n",
    "from scipy.special import entr\n",
    "\n",
    "#Making a Pandas Dataframe from csv\n",
    "original_dataset = pd.read_csv(\"training.csv\")"
   ]
  },
  {
   "cell_type": "code",
   "execution_count": 62,
   "metadata": {},
   "outputs": [],
   "source": [
    "#Make a duplicate of the dataset\n",
    "dup_dataset = original_dataset.copy()\n",
    "#Making train/test data of the dup_dataset 80/20 \n",
    "training_data, testing_data = train_test_split(dup_dataset, test_size = .2, random_state = 42)\n",
    "#List of all possible classes\n",
    "possible_classes = training_data[training_data.columns[-1]].unique()  \n",
    "#total number of different words\n",
    "no_words = training_data.shape[1] - 2\n",
    "#likely matrix full of zero's\n",
    "likely_mtrx = np.zeros((len(possible_classes), no_words))\n",
    "beta_likely_mtrx =  np.zeros((len(possible_classes), no_words))\n"
   ]
  },
  {
   "cell_type": "code",
   "execution_count": 63,
   "metadata": {
    "scrolled": true
   },
   "outputs": [],
   "source": [
    "#function for reshaping the training data\n",
    "def reshape_train(training_data):\n",
    "    req_columns = [column for column in training_data.columns if column not in ['1', '14']]\n",
    "    req_training_data = training_data[req_columns]\n",
    "    \n",
    "    return req_training_data"
   ]
  },
  {
   "cell_type": "code",
   "execution_count": 64,
   "metadata": {},
   "outputs": [
    {
     "data": {
      "text/plain": [
       "(400, 61188)"
      ]
     },
     "execution_count": 64,
     "metadata": {},
     "output_type": "execute_result"
    }
   ],
   "source": [
    "req_training_data= reshape_train(training_data)\n",
    "req_training_data.shape"
   ]
  },
  {
   "cell_type": "code",
   "execution_count": 65,
   "metadata": {},
   "outputs": [],
   "source": [
    "#function for finding the priors\n",
    "def priors(training_data, possible_classes):\n",
    "    prior_probs = {} #Priors for each of the possible classes\n",
    "    for i in possible_classes:\n",
    "        each_classdata = training_data[training_data['14'] == i]\n",
    "        prior_probs[i] = len(each_classdata) / float( len(training_data))\n",
    "    return prior_probs"
   ]
  },
  {
   "cell_type": "code",
   "execution_count": 66,
   "metadata": {},
   "outputs": [],
   "source": [
    "#range of Beta values to choose from\n",
    "beta_values = [.00001, .00005, .0001, .0005, .001, .005, .01, .05, .1, .5, 1]\n",
    "# Beta variable for NB running on data.\n",
    "current_beta = 0.01"
   ]
  },
  {
   "cell_type": "code",
   "execution_count": 74,
   "metadata": {},
   "outputs": [],
   "source": [
    "#function for finding the log likely matrix \n",
    "def likelihoods(possible_classes, training_data, no_words, current_beta):\n",
    "    req_training_data = reshape_train(training_data) #calling function\n",
    "    req_training_np = req_training_data.values #df to np array\n",
    "    #only considering the required matrix by taking required position values\n",
    "    training_pos = np.nonzero(req_training_np)\n",
    "        \n",
    "    for pos in range(len(training_pos[0])): \n",
    "        try:\n",
    "            pos_r = training_pos[0][pos]\n",
    "            pos_c = training_pos[1][pos]\n",
    "            value_at_pos = req_training_np[pos_r][pos_c]\n",
    "            class_r = training_data.iloc[pos_r][-1]\n",
    "            current = likely_mtrx[class_r-1 ][pos_c]\n",
    "            likely_mtrx[class_r-1 ][pos_c] = current + value_at_pos\n",
    "        except IndexError:\n",
    "            print (training_pos[0][pos], training_pos[1][pos], training_data.iloc[pos_r][-1])\n",
    "    \n",
    "        \n",
    "    for i in range(len(possible_classes)): #for each possible class the total words are calculated \n",
    "        class_wc = sum(likely_mtrx[i])\n",
    "        for j in range(no_words):\n",
    "            beta_likely = likely_mtrx[i][j]\n",
    "            beta_likely += current_beta  #uses the current beta value\n",
    "            beta_likely /= (class_wc + (no_words * current_beta))\n",
    "            beta_likely_mtrx[i][j] = beta_likely #likelyhood matrix with beta\n",
    "            \n",
    "    log_likely_mtrx = np.log2(beta_likely_mtrx)\n",
    "    #print(likely_mtrx[15])\n",
    "    return log_likely_mtrx\n"
   ]
  },
  {
   "cell_type": "code",
   "execution_count": 72,
   "metadata": {},
   "outputs": [],
   "source": [
    "def training_acc(testing_data, possible_classes, no_words, current_beta):\n",
    "    prior_probs = priors(training_data, possible_classes)\n",
    "    log_likely_mtrx = likelihoods(possible_classes, training_data, no_words, current_beta)\n",
    "    correct = 0\n",
    "    for row in range(len(testing_data)):\n",
    "        value_actual = testing_data.iloc[row][-1]\n",
    "        list_updated = testing_data.iloc[row][1:-1].tolist()\n",
    "        c_results = []\n",
    "        \n",
    "        for i in range(len(possible_classes)):\n",
    "            dot_product = np.log2(prior_probs[i+1]) + np.dot(list_updated, log_likely_mtrx[i])\n",
    "            c_results.append(dot_product)\n",
    "        predicted = int(np.argmax(c_results)) + 1\n",
    "        if value_actual == predicted:\n",
    "            correct += 1\n",
    "    train_acc = float (correct) / len(testing_data)\n",
    "    return train_acc  #Prints the training accuracies\n"
   ]
  },
  {
   "cell_type": "code",
   "execution_count": 76,
   "metadata": {},
   "outputs": [],
   "source": [
    "training_accuracy = training_acc(testing_data, possible_classes, no_words, current_beta)\n"
   ]
  },
  {
   "cell_type": "code",
   "execution_count": 71,
   "metadata": {},
   "outputs": [
    {
     "name": "stdout",
     "output_type": "stream",
     "text": [
      "0.57\n"
     ]
    }
   ],
   "source": [
    "print (training_accuracy)"
   ]
  },
  {
   "cell_type": "code",
   "execution_count": null,
   "metadata": {},
   "outputs": [],
   "source": [
    "#read the original testing data\n",
    "original_testing_data = pd.read_csv(\"testing.csv\")\n",
    "\n",
    "def testing_acc(original_testing_data, possible_classes, training_data, no_words, current_beta):\n",
    "    result =[]\n",
    "    result.append['id','class']\n",
    "    prior_probs = priors(training_data, possible_classes)\n",
    "    log_likely_mtrx = likelihoods(possible_classes, training_data, no_words, current_beta)\n",
    "    for i in range(len(original_testing_data)):\n",
    "        num_r = original_testing_data.iloc[i][0]\n",
    "        list_updated = original_testing_data.iloc[i][1:].tolist()\n",
    "        c_results = []\n",
    "        for i in range(len(possible_classes)):\n",
    "            dot_product = np.log2(prior_probs[i+1]) + np.dot(list_updated, log_likely_mtrx[i])\n",
    "            c_results.append(dot_product)\n",
    "    classified = int(np.argmax(c_results)) + 1\n",
    "    result.append([i+12001, classified])\n",
    "    return final_result\n",
    "#%%   "
   ]
  },
  {
   "cell_type": "code",
   "execution_count": null,
   "metadata": {},
   "outputs": [],
   "source": [
    "final_result = testing_acc(original_testing_data, possible_classes)\n",
    "# Saving the predicted values to a CSV file inorder to upload it to kaggle\n",
    "output = pd.DataFrame(final_result)\n",
    "output.to_csv(\"predicted_result_naive_bayes_mani.csv\", header = None, index= None)"
   ]
  },
  {
   "cell_type": "code",
   "execution_count": null,
   "metadata": {},
   "outputs": [],
   "source": [
    "def rank(training_data, no_words, possible classes):\n",
    "    length_words = 61188\n",
    "    beta_value = 1/length_words\n",
    "\n",
    "    alpha = 1+beta_value\n",
    "    req_training_data = reshape_train(training_data)\n",
    "    req_training_np = req_training_data.to_numpy()\n",
    "    # Returns a sparse matrix with positions/index of non-zero elements\n",
    "    training_pos = np.nonzero(req_training_np)\n",
    "    likely_mtrx = np.zeros((len(possible_classes), no_words))\n",
    "\n",
    "    for pos in range(len(training_pos)):\n",
    "        try:\n",
    "            pos_r = training_pos[0][pos]\n",
    "            pos_c = training_pos[1][pos]\n",
    "            value_at_pos = req_training_np[pos_r][pos_c]\n",
    "            class_r = training_data.iloc[pos_r][-1]\n",
    "            likely_mtrx[class_r -1 ][pos_c] += value_at_pos\n",
    "        except:\n",
    "            print (training_pos[0][pos], training_pos[1][pos], training_data.iloc[pos_r][-1])\n",
    "        \n",
    "    class_wc = np.sum(likely_mtrx, axis=1)\n",
    "    \n",
    "    probability_words = np.transpose(((np.transpose(likely_mtrx))+alpha-1)/(class_wc + ((alpha -1)* length_words)))\n",
    "\n",
    "    # from the function entr scipy\n",
    "    # It calculates entropy values from the probs of each words\n",
    "    entr_values = entr(probability_words)\n",
    "\n",
    "    sum_entr_values = np.sum(entr_values, axis =0)\n",
    "\n",
    "    # top 100 ranked words indices\n",
    "    rank_indices = sum_entr_values.argsort()[:100]\n",
    "\n",
    "\n",
    "    #List of words from the text file\n",
    "    vocab_list = np.loadtxt(\"vocabulary.txt\", dtype=\"str\")\n",
    "    \n",
    "    return vocab_list"
   ]
  },
  {
   "cell_type": "code",
   "execution_count": null,
   "metadata": {},
   "outputs": [],
   "source": [
    "vocabulary = rank(training_data, no_words, possible_classes) \n",
    "\n",
    "print(list(vocabulary[rank_indices]))"
   ]
  },
  {
   "cell_type": "code",
   "execution_count": null,
   "metadata": {},
   "outputs": [],
   "source": []
  },
  {
   "cell_type": "code",
   "execution_count": null,
   "metadata": {},
   "outputs": [],
   "source": []
  }
 ],
 "metadata": {
  "kernelspec": {
   "display_name": "Python 3",
   "language": "python",
   "name": "python3"
  },
  "language_info": {
   "codemirror_mode": {
    "name": "ipython",
    "version": 3
   },
   "file_extension": ".py",
   "mimetype": "text/x-python",
   "name": "python",
   "nbconvert_exporter": "python",
   "pygments_lexer": "ipython3",
   "version": "3.7.3"
  }
 },
 "nbformat": 4,
 "nbformat_minor": 2
}
